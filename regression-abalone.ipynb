{
 "cells": [
  {
   "cell_type": "code",
   "execution_count": 1,
   "id": "3a4ec502",
   "metadata": {
    "_cell_guid": "b1076dfc-b9ad-4769-8c92-a6c4dae69d19",
    "_uuid": "8f2839f25d086af736a60e9eeb907d3b93b6e0e5",
    "execution": {
     "iopub.execute_input": "2024-04-13T14:39:06.055426Z",
     "iopub.status.busy": "2024-04-13T14:39:06.054977Z",
     "iopub.status.idle": "2024-04-13T14:39:06.884031Z",
     "shell.execute_reply": "2024-04-13T14:39:06.882972Z"
    },
    "papermill": {
     "duration": 0.837813,
     "end_time": "2024-04-13T14:39:06.887727",
     "exception": false,
     "start_time": "2024-04-13T14:39:06.049914",
     "status": "completed"
    },
    "tags": []
   },
   "outputs": [
    {
     "name": "stdout",
     "output_type": "stream",
     "text": [
      "/kaggle/input/playground-series-s4e4/sample_submission.csv\n",
      "/kaggle/input/playground-series-s4e4/train.csv\n",
      "/kaggle/input/playground-series-s4e4/test.csv\n"
     ]
    }
   ],
   "source": [
    "# This Python 3 environment comes with many helpful analytics libraries installed\n",
    "# It is defined by the kaggle/python Docker image: https://github.com/kaggle/docker-python\n",
    "# For example, here's several helpful packages to load\n",
    "\n",
    "import numpy as np # linear algebra\n",
    "import pandas as pd # data processing, CSV file I/O (e.g. pd.read_csv)\n",
    "\n",
    "# Input data files are available in the read-only \"../input/\" directory\n",
    "# For example, running this (by clicking run or pressing Shift+Enter) will list all files under the input directory\n",
    "\n",
    "import os\n",
    "for dirname, _, filenames in os.walk('/kaggle/input'):\n",
    "    for filename in filenames:\n",
    "        print(os.path.join(dirname, filename))\n",
    "\n",
    "# You can write up to 20GB to the current directory (/kaggle/working/) that gets preserved as output when you create a version using \"Save & Run All\" \n",
    "# You can also write temporary files to /kaggle/temp/, but they won't be saved outside of the current session"
   ]
  },
  {
   "cell_type": "code",
   "execution_count": 2,
   "id": "8ae16c40",
   "metadata": {
    "execution": {
     "iopub.execute_input": "2024-04-13T14:39:06.895690Z",
     "iopub.status.busy": "2024-04-13T14:39:06.894644Z",
     "iopub.status.idle": "2024-04-13T14:39:07.207344Z",
     "shell.execute_reply": "2024-04-13T14:39:07.206408Z"
    },
    "papermill": {
     "duration": 0.318688,
     "end_time": "2024-04-13T14:39:07.209580",
     "exception": false,
     "start_time": "2024-04-13T14:39:06.890892",
     "status": "completed"
    },
    "tags": []
   },
   "outputs": [
    {
     "data": {
      "text/html": [
       "<div>\n",
       "<style scoped>\n",
       "    .dataframe tbody tr th:only-of-type {\n",
       "        vertical-align: middle;\n",
       "    }\n",
       "\n",
       "    .dataframe tbody tr th {\n",
       "        vertical-align: top;\n",
       "    }\n",
       "\n",
       "    .dataframe thead th {\n",
       "        text-align: right;\n",
       "    }\n",
       "</style>\n",
       "<table border=\"1\" class=\"dataframe\">\n",
       "  <thead>\n",
       "    <tr style=\"text-align: right;\">\n",
       "      <th></th>\n",
       "      <th>id</th>\n",
       "      <th>Length</th>\n",
       "      <th>Diameter</th>\n",
       "      <th>Height</th>\n",
       "      <th>Whole weight</th>\n",
       "      <th>Whole weight.1</th>\n",
       "      <th>Whole weight.2</th>\n",
       "      <th>Shell weight</th>\n",
       "      <th>Rings</th>\n",
       "      <th>Sex_F</th>\n",
       "      <th>Sex_I</th>\n",
       "      <th>Sex_M</th>\n",
       "    </tr>\n",
       "  </thead>\n",
       "  <tbody>\n",
       "    <tr>\n",
       "      <th>0</th>\n",
       "      <td>0</td>\n",
       "      <td>0.55</td>\n",
       "      <td>0.43</td>\n",
       "      <td>0.150</td>\n",
       "      <td>0.7715</td>\n",
       "      <td>0.3285</td>\n",
       "      <td>0.1465</td>\n",
       "      <td>0.240</td>\n",
       "      <td>11</td>\n",
       "      <td>True</td>\n",
       "      <td>False</td>\n",
       "      <td>False</td>\n",
       "    </tr>\n",
       "    <tr>\n",
       "      <th>1</th>\n",
       "      <td>1</td>\n",
       "      <td>0.63</td>\n",
       "      <td>0.49</td>\n",
       "      <td>0.145</td>\n",
       "      <td>1.1300</td>\n",
       "      <td>0.4580</td>\n",
       "      <td>0.2765</td>\n",
       "      <td>0.320</td>\n",
       "      <td>11</td>\n",
       "      <td>True</td>\n",
       "      <td>False</td>\n",
       "      <td>False</td>\n",
       "    </tr>\n",
       "    <tr>\n",
       "      <th>2</th>\n",
       "      <td>2</td>\n",
       "      <td>0.16</td>\n",
       "      <td>0.11</td>\n",
       "      <td>0.025</td>\n",
       "      <td>0.0210</td>\n",
       "      <td>0.0055</td>\n",
       "      <td>0.0030</td>\n",
       "      <td>0.005</td>\n",
       "      <td>6</td>\n",
       "      <td>False</td>\n",
       "      <td>True</td>\n",
       "      <td>False</td>\n",
       "    </tr>\n",
       "  </tbody>\n",
       "</table>\n",
       "</div>"
      ],
      "text/plain": [
       "   id  Length  Diameter  Height  Whole weight  Whole weight.1  Whole weight.2  \\\n",
       "0   0    0.55      0.43   0.150        0.7715          0.3285          0.1465   \n",
       "1   1    0.63      0.49   0.145        1.1300          0.4580          0.2765   \n",
       "2   2    0.16      0.11   0.025        0.0210          0.0055          0.0030   \n",
       "\n",
       "   Shell weight  Rings  Sex_F  Sex_I  Sex_M  \n",
       "0         0.240     11   True  False  False  \n",
       "1         0.320     11   True  False  False  \n",
       "2         0.005      6  False   True  False  "
      ]
     },
     "execution_count": 2,
     "metadata": {},
     "output_type": "execute_result"
    }
   ],
   "source": [
    "train_dataset_root = r\"/kaggle/input/playground-series-s4e4/train.csv\"\n",
    "test_dataset_root = r\"/kaggle/input/playground-series-s4e4/test.csv\"\n",
    "train_dataset = pd.read_csv(train_dataset_root)\n",
    "# one hot\n",
    "train_dataset = pd.get_dummies(train_dataset, columns=['Sex'])\n",
    "test_dataset = pd.read_csv(test_dataset_root)\n",
    "test_dataset = pd.get_dummies(test_dataset, columns=['Sex'])\n",
    "train_dataset.head(3)"
   ]
  },
  {
   "cell_type": "code",
   "execution_count": 3,
   "id": "3773476d",
   "metadata": {
    "execution": {
     "iopub.execute_input": "2024-04-13T14:39:07.216946Z",
     "iopub.status.busy": "2024-04-13T14:39:07.216600Z",
     "iopub.status.idle": "2024-04-13T14:39:07.266062Z",
     "shell.execute_reply": "2024-04-13T14:39:07.264875Z"
    },
    "papermill": {
     "duration": 0.055878,
     "end_time": "2024-04-13T14:39:07.268454",
     "exception": false,
     "start_time": "2024-04-13T14:39:07.212576",
     "status": "completed"
    },
    "tags": []
   },
   "outputs": [
    {
     "name": "stdout",
     "output_type": "stream",
     "text": [
      "[[0.55 0.43 0.15 ... True False False]\n",
      " [0.63 0.49 0.145 ... True False False]\n",
      " [0.16 0.11 0.025 ... False True False]\n",
      " ...\n",
      " [0.435 0.33 0.095 ... False True False]\n",
      " [0.345 0.27 0.075 ... False True False]\n",
      " [0.425 0.325 0.1 ... False True False]]\n",
      "[11 11  6 ...  6  6  8]\n"
     ]
    }
   ],
   "source": [
    "X = train_dataset.drop(columns=[\"id\",\"Rings\"]).values  # feature\n",
    "y = train_dataset['Rings'].values  # label\n",
    "print(X)\n",
    "print(y)"
   ]
  },
  {
   "cell_type": "markdown",
   "id": "28f8fed9",
   "metadata": {
    "papermill": {
     "duration": 0.002619,
     "end_time": "2024-04-13T14:39:07.274014",
     "exception": false,
     "start_time": "2024-04-13T14:39:07.271395",
     "status": "completed"
    },
    "tags": []
   },
   "source": [
    "# **Preprocess**"
   ]
  },
  {
   "cell_type": "code",
   "execution_count": 4,
   "id": "821c4512",
   "metadata": {
    "execution": {
     "iopub.execute_input": "2024-04-13T14:39:07.281517Z",
     "iopub.status.busy": "2024-04-13T14:39:07.281128Z",
     "iopub.status.idle": "2024-04-13T14:39:24.912077Z",
     "shell.execute_reply": "2024-04-13T14:39:24.910742Z"
    },
    "papermill": {
     "duration": 17.637296,
     "end_time": "2024-04-13T14:39:24.914154",
     "exception": false,
     "start_time": "2024-04-13T14:39:07.276858",
     "status": "completed"
    },
    "tags": []
   },
   "outputs": [
    {
     "name": "stdout",
     "output_type": "stream",
     "text": [
      "Epoch 0, Loss: 102.6925\n",
      "Epoch 10, Loss: 96.4140\n",
      "Epoch 20, Loss: 88.3230\n",
      "Epoch 30, Loss: 77.4351\n",
      "Epoch 40, Loss: 63.8756\n",
      "Epoch 50, Loss: 48.9241\n",
      "Epoch 60, Loss: 35.1072\n",
      "Epoch 70, Loss: 25.0386\n",
      "Epoch 80, Loss: 20.1985\n",
      "Epoch 90, Loss: 17.9004\n",
      "Epoch 100, Loss: 15.3662\n",
      "Epoch 110, Loss: 13.0087\n",
      "Epoch 120, Loss: 10.9906\n",
      "Epoch 130, Loss: 9.2781\n",
      "Epoch 140, Loss: 7.9093\n",
      "Epoch 150, Loss: 6.8996\n",
      "Epoch 160, Loss: 6.1943\n",
      "Epoch 170, Loss: 5.7161\n",
      "Epoch 180, Loss: 5.3981\n",
      "Epoch 190, Loss: 5.1832\n",
      "Epoch 200, Loss: 5.0292\n",
      "Epoch 210, Loss: 4.9111\n",
      "Epoch 220, Loss: 4.8142\n",
      "Epoch 230, Loss: 4.7307\n",
      "Epoch 240, Loss: 4.6564\n",
      "Epoch 250, Loss: 4.5885\n",
      "Epoch 260, Loss: 4.5264\n",
      "Epoch 270, Loss: 4.4695\n",
      "Epoch 280, Loss: 4.4175\n",
      "Epoch 290, Loss: 4.3699\n",
      "Validation Loss: 4.3694\n"
     ]
    }
   ],
   "source": [
    "from sklearn.preprocessing import StandardScaler\n",
    "import torch\n",
    "import torch.nn as nn\n",
    "import torch.optim as optim\n",
    "from sklearn.model_selection import train_test_split\n",
    "scaler = StandardScaler()\n",
    "X_scaled = scaler.fit_transform(X)\n",
    "X_train, X_val, y_train, y_val = train_test_split(X_scaled, y, test_size=0.2, random_state=42)\n",
    "X_train_tensor = torch.tensor(X_train, dtype=torch.float32)\n",
    "y_train_tensor = torch.tensor(y_train, dtype=torch.float32)\n",
    "X_val_tensor = torch.tensor(X_val, dtype=torch.float32)\n",
    "y_val_tensor = torch.tensor(y_val, dtype=torch.float32)\n",
    "class DNN(nn.Module):\n",
    "    def __init__(self, input_size, hidden_size1, hidden_size2):\n",
    "        super(DNN, self).__init__()\n",
    "        self.fc1 = nn.Linear(input_size, hidden_size1)\n",
    "        self.relu = nn.ReLU()\n",
    "        self.fc2 = nn.Linear(hidden_size1, hidden_size2)\n",
    "        self.fc3 = nn.Linear(hidden_size2, 1)\n",
    "\n",
    "    def forward(self, x):\n",
    "        out = self.fc1(x)\n",
    "        out = self.relu(out)\n",
    "        out = self.fc2(out)\n",
    "        out = self.relu(out)\n",
    "        out = self.fc3(out)\n",
    "        return out\n",
    "\n",
    "    \n",
    "input_size = X_train.shape[1]\n",
    "hidden_size1 = 64\n",
    "hidden_size2 = 32\n",
    "model = DNN(input_size, hidden_size1, hidden_size2)\n",
    "\n",
    "criterion = nn.MSELoss()\n",
    "optimizer = optim.Adam(model.parameters(), lr=0.001)\n",
    "\n",
    "# 训练模型\n",
    "num_epochs = 300\n",
    "for epoch in range(num_epochs):\n",
    "    # 前向传播\n",
    "    outputs = model(X_train_tensor)\n",
    "    loss = criterion(outputs, y_train_tensor.view(-1, 1))\n",
    "\n",
    "    # 反向传播和优化\n",
    "    optimizer.zero_grad()\n",
    "    loss.backward()\n",
    "    optimizer.step()\n",
    "\n",
    "    # 每10个epoch打印一次训练信息\n",
    "    if epoch % 10 == 0:\n",
    "        print(f'Epoch {epoch}, Loss: {loss.item():.4f}')\n",
    "    \n",
    "with torch.no_grad():\n",
    "    val_outputs = model(X_val_tensor)\n",
    "    val_loss = criterion(val_outputs, y_val_tensor.view(-1, 1))\n",
    "    print(f'Validation Loss: {val_loss.item():.4f}')\n"
   ]
  },
  {
   "cell_type": "code",
   "execution_count": 5,
   "id": "5a1964f9",
   "metadata": {
    "execution": {
     "iopub.execute_input": "2024-04-13T14:39:24.925465Z",
     "iopub.status.busy": "2024-04-13T14:39:24.924944Z",
     "iopub.status.idle": "2024-04-13T14:39:25.118331Z",
     "shell.execute_reply": "2024-04-13T14:39:25.117349Z"
    },
    "papermill": {
     "duration": 0.202235,
     "end_time": "2024-04-13T14:39:25.121293",
     "exception": false,
     "start_time": "2024-04-13T14:39:24.919058",
     "status": "completed"
    },
    "tags": []
   },
   "outputs": [
    {
     "name": "stdout",
     "output_type": "stream",
     "text": [
      "[[0.645 0.475 0.155 ... False False True]\n",
      " [0.58 0.46 0.16 ... False False True]\n",
      " [0.56 0.42 0.14 ... False False True]\n",
      " ...\n",
      " [0.59 0.44 0.155 ... False True False]\n",
      " [0.66 0.525 0.19 ... True False False]\n",
      " [0.43 0.34 0.12 ... True False False]]\n"
     ]
    }
   ],
   "source": [
    "X = test_dataset.drop(columns=[\"id\"]).values\n",
    "test_id = test_dataset[\"id\"].values\n",
    "print(X)\n",
    "test_scaled = scaler.fit_transform(X)\n",
    "test_tensor = torch.tensor(test_scaled, dtype=torch.float32)\n",
    "with torch.no_grad():\n",
    "    test_outputs = model(test_tensor).numpy()\n",
    "result_df = pd.DataFrame({'id': test_id, 'Rings': test_outputs.flatten()})\n",
    "# 将DataFrame保存到CSV文件中\n",
    "result_df.to_csv('submission.csv', index=False)"
   ]
  }
 ],
 "metadata": {
  "kaggle": {
   "accelerator": "none",
   "dataSources": [
    {
     "databundleVersionId": 8096274,
     "sourceId": 72489,
     "sourceType": "competition"
    }
   ],
   "dockerImageVersionId": 30684,
   "isGpuEnabled": false,
   "isInternetEnabled": true,
   "language": "python",
   "sourceType": "notebook"
  },
  "kernelspec": {
   "display_name": "Python 3",
   "language": "python",
   "name": "python3"
  },
  "language_info": {
   "codemirror_mode": {
    "name": "ipython",
    "version": 3
   },
   "file_extension": ".py",
   "mimetype": "text/x-python",
   "name": "python",
   "nbconvert_exporter": "python",
   "pygments_lexer": "ipython3",
   "version": "3.10.13"
  },
  "papermill": {
   "default_parameters": {},
   "duration": 24.037855,
   "end_time": "2024-04-13T14:39:27.380879",
   "environment_variables": {},
   "exception": null,
   "input_path": "__notebook__.ipynb",
   "output_path": "__notebook__.ipynb",
   "parameters": {},
   "start_time": "2024-04-13T14:39:03.343024",
   "version": "2.5.0"
  }
 },
 "nbformat": 4,
 "nbformat_minor": 5
}
